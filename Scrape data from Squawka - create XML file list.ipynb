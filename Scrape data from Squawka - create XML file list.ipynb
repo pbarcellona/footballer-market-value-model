{
 "cells": [
  {
   "cell_type": "markdown",
   "metadata": {},
   "source": [
    "### Scrape data from Squawka - create XML file list"
   ]
  },
  {
   "cell_type": "markdown",
   "metadata": {},
   "source": [
    "### Create list of URLs to download via BASH"
   ]
  },
  {
   "cell_type": "code",
   "execution_count": 2,
   "metadata": {},
   "outputs": [],
   "source": [
    "url_dict = {'bliga': [34614,34635],'ligue1':[33317,33338], 'epl':[32924,32945], 'eredivisie':[35302,35323],\n",
    "            'seriea':[34929,34950],'laliga':[34245,34266]}"
   ]
  },
  {
   "cell_type": "code",
   "execution_count": 8,
   "metadata": {},
   "outputs": [
    {
     "data": {
      "text/plain": [
       "126"
      ]
     },
     "execution_count": 8,
     "metadata": {},
     "output_type": "execute_result"
    }
   ],
   "source": [
    "# Create list to store URLs\n",
    "\n",
    "url_list = []\n",
    "\n",
    "for key, value in url_dict.iteritems():\n",
    "    for i in range(value[0],value[1]):\n",
    "        url = \"http://s3-irl-\" + key + \".squawka.com/dp/ingame/\" + str(i)\n",
    "        url_list.append(url)\n",
    "\n",
    "len(url_list)"
   ]
  },
  {
   "cell_type": "code",
   "execution_count": 9,
   "metadata": {},
   "outputs": [
    {
     "data": {
      "text/plain": [
       "['http://s3-irl-bliga.squawka.com/dp/ingame/34614',\n",
       " 'http://s3-irl-bliga.squawka.com/dp/ingame/34615',\n",
       " 'http://s3-irl-bliga.squawka.com/dp/ingame/34616',\n",
       " 'http://s3-irl-bliga.squawka.com/dp/ingame/34617',\n",
       " 'http://s3-irl-bliga.squawka.com/dp/ingame/34618',\n",
       " 'http://s3-irl-bliga.squawka.com/dp/ingame/34619',\n",
       " 'http://s3-irl-bliga.squawka.com/dp/ingame/34620',\n",
       " 'http://s3-irl-bliga.squawka.com/dp/ingame/34621',\n",
       " 'http://s3-irl-bliga.squawka.com/dp/ingame/34622',\n",
       " 'http://s3-irl-bliga.squawka.com/dp/ingame/34623',\n",
       " 'http://s3-irl-bliga.squawka.com/dp/ingame/34624',\n",
       " 'http://s3-irl-bliga.squawka.com/dp/ingame/34625',\n",
       " 'http://s3-irl-bliga.squawka.com/dp/ingame/34626',\n",
       " 'http://s3-irl-bliga.squawka.com/dp/ingame/34627',\n",
       " 'http://s3-irl-bliga.squawka.com/dp/ingame/34628',\n",
       " 'http://s3-irl-bliga.squawka.com/dp/ingame/34629',\n",
       " 'http://s3-irl-bliga.squawka.com/dp/ingame/34630',\n",
       " 'http://s3-irl-bliga.squawka.com/dp/ingame/34631',\n",
       " 'http://s3-irl-bliga.squawka.com/dp/ingame/34632',\n",
       " 'http://s3-irl-bliga.squawka.com/dp/ingame/34633',\n",
       " 'http://s3-irl-bliga.squawka.com/dp/ingame/34634',\n",
       " 'http://s3-irl-laliga.squawka.com/dp/ingame/34245',\n",
       " 'http://s3-irl-laliga.squawka.com/dp/ingame/34246',\n",
       " 'http://s3-irl-laliga.squawka.com/dp/ingame/34247',\n",
       " 'http://s3-irl-laliga.squawka.com/dp/ingame/34248',\n",
       " 'http://s3-irl-laliga.squawka.com/dp/ingame/34249',\n",
       " 'http://s3-irl-laliga.squawka.com/dp/ingame/34250',\n",
       " 'http://s3-irl-laliga.squawka.com/dp/ingame/34251',\n",
       " 'http://s3-irl-laliga.squawka.com/dp/ingame/34252',\n",
       " 'http://s3-irl-laliga.squawka.com/dp/ingame/34253',\n",
       " 'http://s3-irl-laliga.squawka.com/dp/ingame/34254',\n",
       " 'http://s3-irl-laliga.squawka.com/dp/ingame/34255',\n",
       " 'http://s3-irl-laliga.squawka.com/dp/ingame/34256',\n",
       " 'http://s3-irl-laliga.squawka.com/dp/ingame/34257',\n",
       " 'http://s3-irl-laliga.squawka.com/dp/ingame/34258',\n",
       " 'http://s3-irl-laliga.squawka.com/dp/ingame/34259',\n",
       " 'http://s3-irl-laliga.squawka.com/dp/ingame/34260',\n",
       " 'http://s3-irl-laliga.squawka.com/dp/ingame/34261',\n",
       " 'http://s3-irl-laliga.squawka.com/dp/ingame/34262',\n",
       " 'http://s3-irl-laliga.squawka.com/dp/ingame/34263',\n",
       " 'http://s3-irl-laliga.squawka.com/dp/ingame/34264',\n",
       " 'http://s3-irl-laliga.squawka.com/dp/ingame/34265',\n",
       " 'http://s3-irl-epl.squawka.com/dp/ingame/32924',\n",
       " 'http://s3-irl-epl.squawka.com/dp/ingame/32925',\n",
       " 'http://s3-irl-epl.squawka.com/dp/ingame/32926',\n",
       " 'http://s3-irl-epl.squawka.com/dp/ingame/32927',\n",
       " 'http://s3-irl-epl.squawka.com/dp/ingame/32928',\n",
       " 'http://s3-irl-epl.squawka.com/dp/ingame/32929',\n",
       " 'http://s3-irl-epl.squawka.com/dp/ingame/32930',\n",
       " 'http://s3-irl-epl.squawka.com/dp/ingame/32931',\n",
       " 'http://s3-irl-epl.squawka.com/dp/ingame/32932',\n",
       " 'http://s3-irl-epl.squawka.com/dp/ingame/32933',\n",
       " 'http://s3-irl-epl.squawka.com/dp/ingame/32934',\n",
       " 'http://s3-irl-epl.squawka.com/dp/ingame/32935',\n",
       " 'http://s3-irl-epl.squawka.com/dp/ingame/32936',\n",
       " 'http://s3-irl-epl.squawka.com/dp/ingame/32937',\n",
       " 'http://s3-irl-epl.squawka.com/dp/ingame/32938',\n",
       " 'http://s3-irl-epl.squawka.com/dp/ingame/32939',\n",
       " 'http://s3-irl-epl.squawka.com/dp/ingame/32940',\n",
       " 'http://s3-irl-epl.squawka.com/dp/ingame/32941',\n",
       " 'http://s3-irl-epl.squawka.com/dp/ingame/32942',\n",
       " 'http://s3-irl-epl.squawka.com/dp/ingame/32943',\n",
       " 'http://s3-irl-epl.squawka.com/dp/ingame/32944',\n",
       " 'http://s3-irl-eredivisie.squawka.com/dp/ingame/35302',\n",
       " 'http://s3-irl-eredivisie.squawka.com/dp/ingame/35303',\n",
       " 'http://s3-irl-eredivisie.squawka.com/dp/ingame/35304',\n",
       " 'http://s3-irl-eredivisie.squawka.com/dp/ingame/35305',\n",
       " 'http://s3-irl-eredivisie.squawka.com/dp/ingame/35306',\n",
       " 'http://s3-irl-eredivisie.squawka.com/dp/ingame/35307',\n",
       " 'http://s3-irl-eredivisie.squawka.com/dp/ingame/35308',\n",
       " 'http://s3-irl-eredivisie.squawka.com/dp/ingame/35309',\n",
       " 'http://s3-irl-eredivisie.squawka.com/dp/ingame/35310',\n",
       " 'http://s3-irl-eredivisie.squawka.com/dp/ingame/35311',\n",
       " 'http://s3-irl-eredivisie.squawka.com/dp/ingame/35312',\n",
       " 'http://s3-irl-eredivisie.squawka.com/dp/ingame/35313',\n",
       " 'http://s3-irl-eredivisie.squawka.com/dp/ingame/35314',\n",
       " 'http://s3-irl-eredivisie.squawka.com/dp/ingame/35315',\n",
       " 'http://s3-irl-eredivisie.squawka.com/dp/ingame/35316',\n",
       " 'http://s3-irl-eredivisie.squawka.com/dp/ingame/35317',\n",
       " 'http://s3-irl-eredivisie.squawka.com/dp/ingame/35318',\n",
       " 'http://s3-irl-eredivisie.squawka.com/dp/ingame/35319',\n",
       " 'http://s3-irl-eredivisie.squawka.com/dp/ingame/35320',\n",
       " 'http://s3-irl-eredivisie.squawka.com/dp/ingame/35321',\n",
       " 'http://s3-irl-eredivisie.squawka.com/dp/ingame/35322',\n",
       " 'http://s3-irl-ligue1.squawka.com/dp/ingame/33317',\n",
       " 'http://s3-irl-ligue1.squawka.com/dp/ingame/33318',\n",
       " 'http://s3-irl-ligue1.squawka.com/dp/ingame/33319',\n",
       " 'http://s3-irl-ligue1.squawka.com/dp/ingame/33320',\n",
       " 'http://s3-irl-ligue1.squawka.com/dp/ingame/33321',\n",
       " 'http://s3-irl-ligue1.squawka.com/dp/ingame/33322',\n",
       " 'http://s3-irl-ligue1.squawka.com/dp/ingame/33323',\n",
       " 'http://s3-irl-ligue1.squawka.com/dp/ingame/33324',\n",
       " 'http://s3-irl-ligue1.squawka.com/dp/ingame/33325',\n",
       " 'http://s3-irl-ligue1.squawka.com/dp/ingame/33326',\n",
       " 'http://s3-irl-ligue1.squawka.com/dp/ingame/33327',\n",
       " 'http://s3-irl-ligue1.squawka.com/dp/ingame/33328',\n",
       " 'http://s3-irl-ligue1.squawka.com/dp/ingame/33329',\n",
       " 'http://s3-irl-ligue1.squawka.com/dp/ingame/33330',\n",
       " 'http://s3-irl-ligue1.squawka.com/dp/ingame/33331',\n",
       " 'http://s3-irl-ligue1.squawka.com/dp/ingame/33332',\n",
       " 'http://s3-irl-ligue1.squawka.com/dp/ingame/33333',\n",
       " 'http://s3-irl-ligue1.squawka.com/dp/ingame/33334',\n",
       " 'http://s3-irl-ligue1.squawka.com/dp/ingame/33335',\n",
       " 'http://s3-irl-ligue1.squawka.com/dp/ingame/33336',\n",
       " 'http://s3-irl-ligue1.squawka.com/dp/ingame/33337',\n",
       " 'http://s3-irl-seriea.squawka.com/dp/ingame/34929',\n",
       " 'http://s3-irl-seriea.squawka.com/dp/ingame/34930',\n",
       " 'http://s3-irl-seriea.squawka.com/dp/ingame/34931',\n",
       " 'http://s3-irl-seriea.squawka.com/dp/ingame/34932',\n",
       " 'http://s3-irl-seriea.squawka.com/dp/ingame/34933',\n",
       " 'http://s3-irl-seriea.squawka.com/dp/ingame/34934',\n",
       " 'http://s3-irl-seriea.squawka.com/dp/ingame/34935',\n",
       " 'http://s3-irl-seriea.squawka.com/dp/ingame/34936',\n",
       " 'http://s3-irl-seriea.squawka.com/dp/ingame/34937',\n",
       " 'http://s3-irl-seriea.squawka.com/dp/ingame/34938',\n",
       " 'http://s3-irl-seriea.squawka.com/dp/ingame/34939',\n",
       " 'http://s3-irl-seriea.squawka.com/dp/ingame/34940',\n",
       " 'http://s3-irl-seriea.squawka.com/dp/ingame/34941',\n",
       " 'http://s3-irl-seriea.squawka.com/dp/ingame/34942',\n",
       " 'http://s3-irl-seriea.squawka.com/dp/ingame/34943',\n",
       " 'http://s3-irl-seriea.squawka.com/dp/ingame/34944',\n",
       " 'http://s3-irl-seriea.squawka.com/dp/ingame/34945',\n",
       " 'http://s3-irl-seriea.squawka.com/dp/ingame/34946',\n",
       " 'http://s3-irl-seriea.squawka.com/dp/ingame/34947',\n",
       " 'http://s3-irl-seriea.squawka.com/dp/ingame/34948',\n",
       " 'http://s3-irl-seriea.squawka.com/dp/ingame/34949']"
      ]
     },
     "execution_count": 9,
     "metadata": {},
     "output_type": "execute_result"
    }
   ],
   "source": [
    "url_list"
   ]
  },
  {
   "cell_type": "markdown",
   "metadata": {},
   "source": [
    "### Download in BASH using:\n",
    "\n",
    "cat filename.txt | egrep -v “(^#.*|^$)” | xargs -n 1 wget"
   ]
  },
  {
   "cell_type": "code",
   "execution_count": null,
   "metadata": {
    "collapsed": true
   },
   "outputs": [],
   "source": []
  }
 ],
 "metadata": {
  "anaconda-cloud": {},
  "kernelspec": {
   "display_name": "Python 2",
   "language": "python",
   "name": "python2"
  },
  "language_info": {
   "codemirror_mode": {
    "name": "ipython",
    "version": 2
   },
   "file_extension": ".py",
   "mimetype": "text/x-python",
   "name": "python",
   "nbconvert_exporter": "python",
   "pygments_lexer": "ipython2",
   "version": "2.7.13"
  }
 },
 "nbformat": 4,
 "nbformat_minor": 2
}
